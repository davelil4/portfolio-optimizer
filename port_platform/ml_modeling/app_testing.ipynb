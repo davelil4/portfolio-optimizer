{
 "cells": [
  {
   "cell_type": "markdown",
   "metadata": {},
   "source": [
    "### Initialization"
   ]
  },
  {
   "cell_type": "code",
   "execution_count": 29,
   "metadata": {},
   "outputs": [],
   "source": [
    "from dash import Dash, html, Output, Input, callback, State\n",
    "from dash.exceptions import PreventUpdate\n",
    "import dash.dcc as dcc\n",
    "import dash_bootstrap_components as dbc\n",
    "import ta\n",
    "\n",
    "import yfinance as yf\n",
    "import os\n",
    "import pandas as pd\n",
    "import numpy as np"
   ]
  },
  {
   "cell_type": "code",
   "execution_count": 4,
   "metadata": {},
   "outputs": [],
   "source": [
    "def grab_ticker_data(symbol, time):\n",
    "    DATA_PATH = f\"../../data/{symbol}_data_{time}.json\"\n",
    "    if os.path.exists(DATA_PATH):\n",
    "        # Read from file if we've already downloaded the data.\n",
    "        with open(DATA_PATH) as f:\n",
    "            ticker_hist = pd.read_json(DATA_PATH)\n",
    "\n",
    "    else:\n",
    "        ticker = yf.Ticker(symbol)\n",
    "        ticker_hist = ticker.history(period=time)\n",
    "\n",
    "        # Save file to json in case we need it later.  This prevents us from having to re-download it every time.\n",
    "        ticker_hist.to_json(DATA_PATH)\n",
    "    return ticker_hist"
   ]
  },
  {
   "cell_type": "code",
   "execution_count": 5,
   "metadata": {},
   "outputs": [],
   "source": [
    "def create_shifted_data(ticker_hist, days=1):\n",
    "    # Ensure we know the actual closing price\n",
    "    data = ticker_hist.copy()\n",
    "    del data[\"Stock Splits\"]\n",
    "    del data[\"Dividends\"]\n",
    "    # data = data.rename(columns = {'Close':'Actual_Close'})\n",
    "    \n",
    "    # Setup our target.  This identifies if the price went up or down\n",
    "    # data[\"Target\"] = ticker_hist.rolling(days+1).apply(lambda x: x.iloc[-1] > x.iloc[0])[\"Close\"] # Might have to adjust if days are different\n",
    "    # data[\"Target\"] = (ticker_hist[\"Close\"].shift(days) < ticker_hist[\"Close\"]).astype(float)\n",
    "    data[\"Target\"] = (data[\"Close\"].shift(-days) > data[\"Close\"]).astype(int)\n",
    "\n",
    "    # Shift stock prices forward one day, so we're predicting tomorrow's stock prices from today's prices.\n",
    "    # ticker_prev = ticker_hist.copy()\n",
    "    # ticker_prev = ticker_prev.shift(days)\n",
    "\n",
    "    # data = data.join(ticker_prev[predictors]).iloc[1:]\n",
    "    return data"
   ]
  },
  {
   "cell_type": "markdown",
   "metadata": {},
   "source": [
    "### TA Generator | Dash Preview"
   ]
  },
  {
   "cell_type": "code",
   "execution_count": 6,
   "metadata": {},
   "outputs": [],
   "source": [
    "symbol = \"MSFT\"\n",
    "time = \"max\"\n",
    "ticker_hist = grab_ticker_data(symbol, time)\n",
    "data = create_shifted_data(ticker_hist)"
   ]
  },
  {
   "cell_type": "code",
   "execution_count": 7,
   "metadata": {},
   "outputs": [],
   "source": [
    "submodules = [name for name in dir(ta) if not (name.startswith(\"__\") or name.startswith(\"add\") or name == 'wrapper' or name == 'utils')]"
   ]
  },
  {
   "cell_type": "code",
   "execution_count": 10,
   "metadata": {},
   "outputs": [],
   "source": [
    "mod_to_inds = {}\n",
    "    \n",
    "for module in submodules:\n",
    "    function_names = [\n",
    "        name for name in dir(getattr(ta, module)) \n",
    "        if callable(getattr(getattr(ta, module), name)) and \n",
    "        not (name.startswith(\"__\") or name.startswith(\"_\") or name[0].isupper())]\n",
    "    mod_to_inds[module] = function_names"
   ]
  },
  {
   "cell_type": "code",
   "execution_count": 12,
   "metadata": {},
   "outputs": [],
   "source": [
    "import inspect\n",
    "\n",
    "def get_function_arguments(func):\n",
    "    signature = inspect.signature(func)\n",
    "    arguments = []\n",
    "    for name, param in signature.parameters.items():\n",
    "        if param.default is inspect.Parameter.empty:\n",
    "            arguments.append((name, None))\n",
    "        else:\n",
    "            arguments.append((name, param.default))\n",
    "    return arguments"
   ]
  },
  {
   "cell_type": "code",
   "execution_count": 14,
   "metadata": {},
   "outputs": [],
   "source": [
    "def draw_ind_inputs(module, ind):\n",
    "    inputs = []\n",
    "    for arg, val in get_function_arguments(getattr(getattr(ta, module), ind)):\n",
    "        inputs.append(dbc.Stack([\n",
    "            dbc.Label(arg),\n",
    "            dbc.Input(id={'type':'ind_param', 'index':arg}, value=val)\n",
    "        ], direction='horizontal', gap=2))\n",
    "    return inputs\n"
   ]
  },
  {
   "cell_type": "code",
   "execution_count": 28,
   "metadata": {},
   "outputs": [
    {
     "data": {
      "text/html": [
       "\n",
       "        <iframe\n",
       "            width=\"100%\"\n",
       "            height=\"650\"\n",
       "            src=\"http://127.0.0.1:8050/\"\n",
       "            frameborder=\"0\"\n",
       "            allowfullscreen\n",
       "            \n",
       "        ></iframe>\n",
       "        "
      ],
      "text/plain": [
       "<IPython.lib.display.IFrame at 0x1177ced30>"
      ]
     },
     "metadata": {},
     "output_type": "display_data"
    }
   ],
   "source": [
    "app = Dash(__name__, external_stylesheets=[dbc.themes.SLATE])\n",
    "app.layout = dbc.Container([\n",
    "    dcc.Store(id='ind-store', storage_type='memory'),\n",
    "    dbc.Row(\n",
    "        [\n",
    "            dbc.Col(\n",
    "                [\n",
    "                    dbc.Stack([\n",
    "                        dbc.Label(\"Indicator Type\", style={'width': '50%'}),\n",
    "                        dcc.Dropdown(submodules, id=\"submod-dd\", style={'width':'100%'}),\n",
    "                    ], direction='horizontal', gap=2)\n",
    "                ]\n",
    "            ),\n",
    "            dbc.Col(\n",
    "                [\n",
    "                    dbc.Stack([\n",
    "                        dbc.Label(\"Indicator\"),\n",
    "                        dcc.Dropdown(id = 'ind-dd', style={'width':'100%'})\n",
    "                    ], direction='horizontal', gap=2)\n",
    "                ]\n",
    "            )\n",
    "        ]\n",
    "    ),\n",
    "    html.Br(),\n",
    "    dbc.Row(\n",
    "        [\n",
    "            dbc.Col((\n",
    "                [\n",
    "                    html.Div(id='ind-params'),\n",
    "                    dbc.Button(\"Add Indicator\", id='add-ind', color='primary')\n",
    "                ]\n",
    "            ))\n",
    "        ]\n",
    "    )\n",
    "])\n",
    "\n",
    "@app.callback(\n",
    "    Output('ind-dd', 'options'),\n",
    "    Input('submod-dd', 'value')\n",
    ")\n",
    "def update_ind_dropdown(submod):\n",
    "    if not submod:\n",
    "        raise PreventUpdate\n",
    "    return mod_to_inds[submod]\n",
    "\n",
    "@app.callback(\n",
    "    Output('ind-params', 'children'),\n",
    "    Input('ind-dd', 'value'),\n",
    "    Input('submod-dd', 'value')\n",
    ")\n",
    "def update_ind_adder(ind, mod):\n",
    "    if not ind or not mod:\n",
    "        return []\n",
    "    return draw_ind_inputs(mod, ind)\n",
    "\n",
    "@app.callback(\n",
    "    Output('ind-store', 'data'),\n",
    "    State('ind-store', 'data'),\n",
    "    Input('add-ind', 'n_clicks')\n",
    ")\n",
    "def add_indicator(data, clicks):\n",
    "    if not clicks:\n",
    "        raise PreventUpdate\n",
    "\n",
    "    if not data:\n",
    "        data = {}\n",
    "\n",
    "    \n",
    "    \n",
    "    return data\n",
    "\n",
    "app.run(jupyter_mode=\"inline\")"
   ]
  }
 ],
 "metadata": {
  "kernelspec": {
   "display_name": ".venv",
   "language": "python",
   "name": "python3"
  },
  "language_info": {
   "codemirror_mode": {
    "name": "ipython",
    "version": 3
   },
   "file_extension": ".py",
   "mimetype": "text/x-python",
   "name": "python",
   "nbconvert_exporter": "python",
   "pygments_lexer": "ipython3",
   "version": "3.9.18"
  }
 },
 "nbformat": 4,
 "nbformat_minor": 2
}
