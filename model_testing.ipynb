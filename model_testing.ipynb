{
 "cells": [
  {
   "cell_type": "code",
   "execution_count": null,
   "metadata": {},
   "outputs": [],
   "source": [
    "import yfinance as yf\n",
    "import os\n",
    "import pandas as pd\n",
    "from dotenv import load_dotenv\n",
    "from sklearn.ensemble import RandomForestClassifier\n",
    "from sklearn.metrics import precision_score\n",
    "from datetime import timedelta\n",
    "import numpy as np\n",
    "import random as rand\n",
    "load_dotenv()"
   ]
  },
  {
   "cell_type": "code",
   "execution_count": null,
   "metadata": {},
   "outputs": [],
   "source": [
    "symbol = \"MSFT\"\n",
    "DATA_PATH = f\"data/{symbol}_data.json\"\n",
    "if os.path.exists(DATA_PATH):\n",
    "    # Read from file if we've already downloaded the data.\n",
    "    with open(DATA_PATH) as f:\n",
    "        ticker_hist = pd.read_json(DATA_PATH)\n",
    "\n",
    "else:\n",
    "    ticker = yf.Ticker(symbol)\n",
    "    ticker_hist = ticker.history(period=\"max\")\n",
    "\n",
    "    # Save file to json in case we need it later.  This prevents us from having to re-download it every time.\n",
    "    ticker_hist.to_json(DATA_PATH)\n",
    "# Ensure we know the actual closing price\n",
    "data = ticker_hist[[\"Close\"]]\n",
    "data = data.rename(columns = {'Close':'Actual_Close'})\n",
    "\n",
    "# Setup our target.  This identifies if the price went up or down\n",
    "data[\"Target\"] = ticker_hist.rolling(2).apply(lambda x: x.iloc[1] > x.iloc[0])[\"Close\"]\n",
    "\n",
    "# Shift stock prices forward one day, so we're predicting tomorrow's stock prices from today's prices.\n",
    "ticker_prev = ticker_hist.copy()\n",
    "ticker_prev = ticker_prev.shift(1)\n",
    "\n",
    "predictors = [\"Close\", \"Volume\", \"Open\", \"High\", \"Low\"]\n",
    "data = data.join(ticker_prev[predictors]).iloc[1:]\n",
    "model = RandomForestClassifier(n_estimators=100, min_samples_split=200, random_state=1)"
   ]
  },
  {
   "cell_type": "code",
   "execution_count": null,
   "metadata": {},
   "outputs": [],
   "source": [
    "def backtest(data, model, predictors, start=1000, step=750):\n",
    "    predictions = []\n",
    "    # Loop over the dataset in increments\n",
    "    for i in range(start, data.shape[0], step):\n",
    "        # Split into train and test sets\n",
    "        train = data.iloc[0:i].copy()\n",
    "        test = data.iloc[i:(i+step)].copy()\n",
    "\n",
    "        # Fit the random forest model\n",
    "        model.fit(train[predictors], train[\"Target\"])\n",
    "\n",
    "        # Make predictions\n",
    "        preds = model.predict_proba(test[predictors])[:,1]\n",
    "        preds = pd.Series(preds, index=test.index)\n",
    "        preds[preds > .6] = 1\n",
    "        preds[preds <= .6] = 0\n",
    "        \n",
    "        # Combine predictions and test values\n",
    "        combined = pd.concat({\"Target\": test[\"Target\"],\"Predictions\": preds}, axis=1)\n",
    "\n",
    "        predictions.append(combined)\n",
    "\n",
    "    return pd.concat(predictions)"
   ]
  },
  {
   "cell_type": "code",
   "execution_count": null,
   "metadata": {},
   "outputs": [],
   "source": [
    "weekly_mean = data.rolling(7).mean()[\"Close\"]\n",
    "quarterly_mean = data.rolling(90).mean()[\"Close\"]\n",
    "annual_mean = data.rolling(365).mean()[\"Close\"]\n",
    "\n",
    "weekly_trend = data.shift(1).rolling(7).sum()[\"Target\"]\n",
    "\n",
    "data[\"weekly_mean\"] = weekly_mean / data[\"Close\"]\n",
    "data[\"quarterly_mean\"] = quarterly_mean / data[\"Close\"]\n",
    "data[\"annual_mean\"] = annual_mean / data[\"Close\"]\n",
    "\n",
    "data[\"annual_weekly_mean\"] = data[\"annual_mean\"] / data[\"weekly_mean\"]\n",
    "data[\"annual_quarterly_mean\"] = data[\"annual_mean\"] / data[\"quarterly_mean\"]\n",
    "\n",
    "data[\"weekly_trend\"] = weekly_trend\n",
    "\n",
    "data[\"open_close_ratio\"] = data[\"Open\"] / data[\"Close\"]\n",
    "data[\"high_close_ratio\"] = data[\"High\"] / data[\"Close\"]\n",
    "data[\"low_close_ratio\"] = data[\"Low\"] / data[\"Close\"]\n",
    "\n",
    "full_predictors = predictors + [\"weekly_mean\", \"quarterly_mean\", \"annual_mean\", \"annual_weekly_mean\", \"annual_quarterly_mean\", \n",
    "                                \"open_close_ratio\", \"high_close_ratio\", \"low_close_ratio\", \"weekly_trend\"]\n",
    "\n",
    "predictions = backtest(data.iloc[365:], model, full_predictors)"
   ]
  },
  {
   "cell_type": "code",
   "execution_count": null,
   "metadata": {},
   "outputs": [],
   "source": [
    "predictions.plot(backend='plotly')"
   ]
  },
  {
   "cell_type": "code",
   "execution_count": null,
   "metadata": {},
   "outputs": [],
   "source": [
    "def forwardPrediction(data, model, predictors, n_days):\n",
    "    predictions = []\n",
    "    d = data[-100:].copy()\n",
    "\n",
    "    for _ in range(n_days):\n",
    "        train = d\n",
    "        returns_d = (d / d.shift(1)).iloc[1:]\n",
    "        \n",
    "        # test_dict = {}\n",
    "\n",
    "        row = rand.randint(0, 98)\n",
    "        t = returns_d.iloc[row]\n",
    "\n",
    "        test_dict = t * d.iloc[99]\n",
    "        test_dict[\"Target\"] = 0 if t[\"Close\"] <= 1 else 1\n",
    "        \n",
    "\n",
    "        # Index for new day\n",
    "        last_date = d.iloc[[-1]].index[0]\n",
    "        last_date = last_date + timedelta(days=1)\n",
    "\n",
    "\n",
    "        test = pd.DataFrame([test_dict], index = [last_date])\n",
    "        \n",
    "        model.fit(train[predictors], train[\"Target\"])\n",
    "        \n",
    "        preds = model.predict_proba(test[predictors])[:,1]\n",
    "        preds = pd.Series(preds, index=test.index)\n",
    "        preds[preds > .6] = 1\n",
    "        preds[preds <= .6] = 0\n",
    "        \n",
    "        # Combine predictions and test values\n",
    "        combined = pd.concat({\"Target\": test[\"Target\"],\"Predictions\": preds}, axis=1)\n",
    "        # with open(\"testing\", 'a') as f:\n",
    "        #     print(d.tail, file=f)\n",
    "        #     print(d.iloc[99], file=f)\n",
    "\n",
    "        d = pd.concat([d, test])[-100:]\n",
    "\n",
    "        predictions.append(combined)\n",
    "    print(d)\n",
    "    return predictions"
   ]
  },
  {
   "cell_type": "code",
   "execution_count": null,
   "metadata": {},
   "outputs": [],
   "source": [
    "def runSims(data, model, predictors, n_days, n_sims):\n",
    "    sims = []\n",
    "    \n",
    "    for _ in range(n_sims):\n",
    "        predictions = pd.concat(forwardPrediction(data, model, predictors, n_days))\n",
    "        print(predictions)\n",
    "        score = precision_score(predictions[\"Target\"], predictions[\"Predictions\"])\n",
    "        sims.append(score)\n",
    "    return sims"
   ]
  },
  {
   "cell_type": "code",
   "execution_count": null,
   "metadata": {},
   "outputs": [],
   "source": [
    "predictions = runSims(data, model, full_predictors, 100, 1)\n",
    "predictions"
   ]
  },
  {
   "attachments": {},
   "cell_type": "markdown",
   "metadata": {},
   "source": [
    "Clear issues with low is not low and high is not high"
   ]
  }
 ],
 "metadata": {
  "kernelspec": {
   "display_name": ".venv_win",
   "language": "python",
   "name": "python3"
  },
  "language_info": {
   "codemirror_mode": {
    "name": "ipython",
    "version": 3
   },
   "file_extension": ".py",
   "mimetype": "text/x-python",
   "name": "python",
   "nbconvert_exporter": "python",
   "pygments_lexer": "ipython3",
   "version": "3.9.13"
  },
  "vscode": {
   "interpreter": {
    "hash": "16d81639d57968e6dd6b8be2ff5b3c3acdb14ba3f6f7a8a10648d3eb1357163d"
   }
  }
 },
 "nbformat": 4,
 "nbformat_minor": 2
}
